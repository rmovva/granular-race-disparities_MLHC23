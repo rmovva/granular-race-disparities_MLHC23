{
 "cells": [
  {
   "cell_type": "markdown",
   "metadata": {},
   "source": [
    "# Construct Main Dataset of ED stays, linked with additional info from MIMIC-IV-ED\n",
    "\n",
    "Note:  MIMIC-ED should be downloaded at “data/ed\" folder (please see the README for more instructions).  \n",
    "\n",
    "Original draft of this pre-processing code from https://github.com/nliulab/mimic4ed-benchmark.  \n"
   ]
  },
  {
   "cell_type": "markdown",
   "metadata": {},
   "source": [
    "## Prepare Python library and raw data"
   ]
  },
  {
   "cell_type": "code",
   "execution_count": 5,
   "metadata": {},
   "outputs": [
    {
     "name": "stdout",
     "output_type": "stream",
     "text": [
      "The autoreload extension is already loaded. To reload it, use:\n",
      "  %reload_ext autoreload\n"
     ]
    }
   ],
   "source": [
    "# reload packages from notebook whenever needed\n",
    "%load_ext autoreload\n",
    "%autoreload 2\n",
    "import os\n",
    "\n",
    "# Add /home/rm868/granular-race-disparities_MLHC23/preprocessing to path so that local imports work\n",
    "import sys\n",
    "sys.path.append('/home/rm868/granular-race-disparities_MLHC23/preprocessing')\n",
    "\n",
    "from helpers import *\n",
    "from medcode_utils import comorbidity, extract_icd_list\n",
    "from paths import mimic_iv_path, data_path"
   ]
  },
  {
   "cell_type": "code",
   "execution_count": 6,
   "metadata": {},
   "outputs": [],
   "source": [
    "# Define auxillary paths/files\n",
    "# 'ed' subfolder should also be added to mimic_iv_path\n",
    "mimic_iv_core_path = os.path.join(mimic_iv_path, 'hosp')\n",
    "mimic_iv_hosp_path = os.path.join(mimic_iv_path , 'hosp')   \n",
    "mimic_iv_icu_path = os.path.join(mimic_iv_path, 'icu')\n",
    "mimic_iv_ed_path = os.path.join(mimic_iv_path, 'ed')\n",
    "\n",
    "# Use gzipped filepaths for auxiliary MIMIC data\n",
    "icu_filename_dict = {\"chartevents\":\"chartevents.csv.gz\", \"datetimeevents\":\"datetimeevents.csv.gz\",\"d_items\":\"d_items.csv.gz\",\"icustays\":\"icustays.csv.gz\",\"inputevents\":\"inputevents.csv.gz\",\"outputevents\":\"outputevents.csv.gz\",\"procedureevents\":\"procedureevents.csv.gz\"}\n",
    "core_filename_dict = {\"patients\":\"patients.csv.gz\", \"admissions\":\"admissions.csv.gz\", \"transfers\":\"transfers.csv.gz\"}\n",
    "hosp_filename_dict = {\"d_hcpcs\":\"d_hcpcs.csv.gz\",\"d_icd_diagnoses\":\"d_icd_diagnoses.csv.gz\",\"d_labitems\":\"d_labitems.csv.gz\",\"emar\":\"emar.csv.gz\",\"hcpcsevents\":\"hcpcsevents.csv.gz\",\"microbiologyevents\":\"microbiologyevents.csv.gz\",\"poe\":\"poe.csv.gz\",\"prescriptions\":\"prescriptions.csv.gz\",\"services\":\"services.csv.gz\",\"diagnoses_icd\":\"diagnoses_icd.csv.gz\",\"d_icd_procedures\":\"d_icd_procedures.csv.gz\",\"drgcodes\":\"drgcodes.csv.gz\",\"emar_detail\":\"emar_detail.csv.gz\",\"labevents\":\"labevents.csv.gz\",\"pharmacy\":\"pharmacy.csv.gz\",\"poe_detail\":\"poe_detail.csv.gz\",\"procedures_icd\":\"procedures_icd.csv.gz\"}\n",
    "ed_filename_dict = {'diagnosis':'diagnosis.csv.gz', 'edstays':'edstays.csv.gz',  'medrecon':'medrecon.csv.gz',  'pyxis':'pyxis.csv.gz',  'triage':'triage.csv.gz',  'vitalsign':'vitalsign.csv.gz'}\n",
    "\n",
    "complaint_dict = {\"chiefcom_chest_pain\" : \"chest pain\", \"chiefcom_abdominal_pain\" : \"abdominal pain|abd pain\", \n",
    "\"chiefcom_headache\" : \"headache|lightheaded\", \"chiefcom_shortness_of_breath\" : \"breath\", \"chiefcom_back_pain\" : \"back pain\", \"chiefcom_cough\" : \"cough\", \n",
    "\"chiefcom_nausea_vomiting\" : \"nausea|vomit\", \"chiefcom_fever_chills\" : \"fever|chill\", \"chiefcom_syncope\" :\"syncope\", \"chiefcom_dizziness\" : \"dizz\"}\n",
    "\n",
    "# Defining parameters for the outcome variables\n",
    "icu_transfer_timerange = 12 # Considered critical outcome if patient is transferred to ICU within 12 hours of ED visit\n",
    "next_ed_visit_timerange = 3 # Considered an ED revisit if patient returns to ED within 3 days of discharge\n"
   ]
  },
  {
   "cell_type": "markdown",
   "metadata": {},
   "source": [
    "## Load raw data tables through pandas library"
   ]
  },
  {
   "cell_type": "code",
   "execution_count": 7,
   "metadata": {},
   "outputs": [],
   "source": [
    "## Reading main tables\n",
    "df_edstays = read_edstays_table(os.path.join(mimic_iv_ed_path, ed_filename_dict['edstays']))\n",
    "if os.path.exists(mimic_iv_core_path):\n",
    "    df_patients = read_patients_table(os.path.join(mimic_iv_core_path, core_filename_dict['patients']))\n",
    "    df_admissions = read_admissions_table(os.path.join(mimic_iv_core_path, core_filename_dict[\"admissions\"]))\n",
    "else:\n",
    "    df_patients = read_patients_table(os.path.join(mimic_iv_hosp_path, core_filename_dict['patients']))\n",
    "    df_admissions = read_admissions_table(os.path.join(mimic_iv_hosp_path, core_filename_dict[\"admissions\"]))\n",
    "df_icustays = read_icustays_table(os.path.join(mimic_iv_icu_path, icu_filename_dict['icustays']))\n",
    "df_triage = read_triage_table(os.path.join(mimic_iv_ed_path, ed_filename_dict['triage']))\n",
    "df_vitalsign = read_vitalsign_table(os.path.join(mimic_iv_ed_path, ed_filename_dict['vitalsign']))\n",
    "df_pyxis = read_pyxis_table(os.path.join(mimic_iv_ed_path, ed_filename_dict['pyxis']))\n",
    "df_medrecon = read_pyxis_table(os.path.join(mimic_iv_ed_path, ed_filename_dict['medrecon']))\n",
    "\n",
    "## Read data here for ICD\n",
    "df_diagnoses = read_diagnoses_table(os.path.join(mimic_iv_hosp_path, hosp_filename_dict['diagnoses_icd']))\n"
   ]
  },
  {
   "cell_type": "markdown",
   "metadata": {},
   "source": [
    "## ED root table, demographic and outcomes"
   ]
  },
  {
   "cell_type": "code",
   "execution_count": 8,
   "metadata": {},
   "outputs": [],
   "source": [
    "## Merging patients -> merging admissions -> merging triage -> master\n",
    "df_main = merge_edstays_patients_on_subject(df_edstays, df_patients)\n",
    "df_main = merge_edstays_admissions_on_subject(df_main, df_admissions)"
   ]
  },
  {
   "cell_type": "code",
   "execution_count": 9,
   "metadata": {},
   "outputs": [
    {
     "name": "stdout",
     "output_type": "stream",
     "text": [
      "Process: 425087/425087\r"
     ]
    }
   ],
   "source": [
    "## Adding age, mortality and ICU transfer outcome\n",
    "df_main = add_age(df_main)\n",
    "df_main = add_inhospital_mortality(df_main)\n",
    "df_main = add_ed_los(df_main)\n",
    "df_main = add_outcome_icu_transfer(df_main, df_icustays, icu_transfer_timerange)\n",
    "df_main['outcome_hospitalization'] = ~pd.isnull(df_main['hadm_id'])\n",
    "df_main['outcome_critical'] = df_main['outcome_inhospital_mortality'] | df_main[''.join(['outcome_icu_transfer_', str(icu_transfer_timerange), 'h'])]\n",
    "\n",
    "# Sort main table for further processing\n",
    "df_main = df_main.sort_values(['subject_id', 'intime']).reset_index()\n",
    "\n",
    "# Filling subjects NA ethnicity, takes ~17s\n",
    "df_main = fill_na_ethnicity(df_main)"
   ]
  },
  {
   "cell_type": "markdown",
   "metadata": {},
   "source": [
    "## Health Utilization"
   ]
  },
  {
   "cell_type": "code",
   "execution_count": 14,
   "metadata": {},
   "outputs": [
    {
     "name": "stdout",
     "output_type": "stream",
     "text": [
      "Process: 425087/425087\r"
     ]
    }
   ],
   "source": [
    "# Generate past ED visits\n",
    "df_main = generate_past_ed_visits(df_main, timerange=30)\n",
    "df_main = generate_past_ed_visits(df_main, timerange=90)\n",
    "df_main = generate_past_ed_visits(df_main, timerange=365)"
   ]
  },
  {
   "cell_type": "code",
   "execution_count": 15,
   "metadata": {},
   "outputs": [
    {
     "name": "stdout",
     "output_type": "stream",
     "text": [
      "Process: 425087/425087\r"
     ]
    }
   ],
   "source": [
    "# Outcome:  future ED revisit variables\n",
    "df_main = generate_future_ed_visits(df_main, next_ed_visit_timerange)"
   ]
  },
  {
   "cell_type": "code",
   "execution_count": 16,
   "metadata": {},
   "outputs": [
    {
     "name": "stderr",
     "output_type": "stream",
     "text": [
      "/home/rm868/granular-race-disparities_MLHC23/preprocessing/helpers.py:209: FutureWarning: In a future version, `df.iloc[:, i] = newvals` will attempt to set the values inplace instead of always setting a new array. To retain the old behavior, use either `df[df.columns[i]] = newvals` or, if columns are non-unique, `df.isetitem(i, newvals)`\n",
      "  df_admissions_sorted.loc[:,'admittime'] = pd.to_datetime(df_admissions_sorted['admittime'])\n"
     ]
    },
    {
     "name": "stdout",
     "output_type": "stream",
     "text": [
      "Process: 425087/425087\r"
     ]
    },
    {
     "name": "stderr",
     "output_type": "stream",
     "text": [
      "/home/rm868/granular-race-disparities_MLHC23/preprocessing/helpers.py:209: FutureWarning: In a future version, `df.iloc[:, i] = newvals` will attempt to set the values inplace instead of always setting a new array. To retain the old behavior, use either `df[df.columns[i]] = newvals` or, if columns are non-unique, `df.isetitem(i, newvals)`\n",
      "  df_admissions_sorted.loc[:,'admittime'] = pd.to_datetime(df_admissions_sorted['admittime'])\n"
     ]
    },
    {
     "name": "stdout",
     "output_type": "stream",
     "text": [
      "Process: 425087/425087\r"
     ]
    },
    {
     "name": "stderr",
     "output_type": "stream",
     "text": [
      "/home/rm868/granular-race-disparities_MLHC23/preprocessing/helpers.py:209: FutureWarning: In a future version, `df.iloc[:, i] = newvals` will attempt to set the values inplace instead of always setting a new array. To retain the old behavior, use either `df[df.columns[i]] = newvals` or, if columns are non-unique, `df.isetitem(i, newvals)`\n",
      "  df_admissions_sorted.loc[:,'admittime'] = pd.to_datetime(df_admissions_sorted['admittime'])\n"
     ]
    },
    {
     "name": "stdout",
     "output_type": "stream",
     "text": [
      "Process: 425087/425087\r"
     ]
    }
   ],
   "source": [
    "# Generate past admissions\n",
    "df_main = generate_past_admissions(df_main, df_admissions, timerange=30)\n",
    "df_main = generate_past_admissions(df_main, df_admissions, timerange=90)\n",
    "df_main = generate_past_admissions(df_main, df_admissions, timerange=365)"
   ]
  },
  {
   "cell_type": "code",
   "execution_count": 17,
   "metadata": {},
   "outputs": [
    {
     "name": "stdout",
     "output_type": "stream",
     "text": [
      "Process: 425087/425087\r"
     ]
    }
   ],
   "source": [
    "# Generate past icu visits\n",
    "df_main  = generate_past_icu_visits(df_main, df_icustays, timerange=30)\n",
    "df_main  = generate_past_icu_visits(df_main, df_icustays, timerange=90)\n",
    "df_main  = generate_past_icu_visits(df_main, df_icustays, timerange=365)"
   ]
  },
  {
   "cell_type": "code",
   "execution_count": 18,
   "metadata": {},
   "outputs": [
    {
     "name": "stdout",
     "output_type": "stream",
     "text": [
      "Process: 425087/425087\r"
     ]
    }
   ],
   "source": [
    "# Generate numeric timedelta variables\n",
    "df_main = generate_numeric_timedelta(df_main)"
   ]
  },
  {
   "cell_type": "markdown",
   "metadata": {},
   "source": [
    "## Triage Information"
   ]
  },
  {
   "cell_type": "code",
   "execution_count": 20,
   "metadata": {},
   "outputs": [],
   "source": [
    "# Merging with triage table, cols of form triage_*\n",
    "df_main = merge_edstays_triage_on_subject(df_main, df_triage)"
   ]
  },
  {
   "cell_type": "code",
   "execution_count": 21,
   "metadata": {},
   "outputs": [],
   "source": [
    "# Encoding 10 chief complaints, chiefcom_*\n",
    "df_main = encode_chief_complaints(df_main, complaint_dict)"
   ]
  },
  {
   "cell_type": "markdown",
   "metadata": {},
   "source": [
    "## Comorbidities from diagnosis ICD"
   ]
  },
  {
   "cell_type": "code",
   "execution_count": 24,
   "metadata": {},
   "outputs": [
    {
     "name": "stderr",
     "output_type": "stream",
     "text": [
      "/home/rm868/granular-race-disparities_MLHC23/preprocessing/medcode_utils.py:94: FutureWarning: In a future version, `df.iloc[:, i] = newvals` will attempt to set the values inplace instead of always setting a new array. To retain the old behavior, use either `df[df.columns[i]] = newvals` or, if columns are non-unique, `df.isetitem(i, newvals)`\n",
      "  df_diagnoses_with_adm.loc[:, 'dischtime'] = pd.to_datetime(\n"
     ]
    },
    {
     "name": "stdout",
     "output_type": "stream",
     "text": [
      "Processing: 420000/425087\r"
     ]
    },
    {
     "name": "stderr",
     "output_type": "stream",
     "text": [
      "/home/rm868/granular-race-disparities_MLHC23/preprocessing/medcode_utils.py:94: FutureWarning: In a future version, `df.iloc[:, i] = newvals` will attempt to set the values inplace instead of always setting a new array. To retain the old behavior, use either `df[df.columns[i]] = newvals` or, if columns are non-unique, `df.isetitem(i, newvals)`\n",
      "  df_diagnoses_with_adm.loc[:, 'dischtime'] = pd.to_datetime(\n"
     ]
    },
    {
     "name": "stdout",
     "output_type": "stream",
     "text": [
      "Number of unique ICD codes v9:  8664\n"
     ]
    },
    {
     "name": "stderr",
     "output_type": "stream",
     "text": [
      "/home/rm868/granular-race-disparities_MLHC23/preprocessing/medcode_utils.py:94: FutureWarning: In a future version, `df.iloc[:, i] = newvals` will attempt to set the values inplace instead of always setting a new array. To retain the old behavior, use either `df[df.columns[i]] = newvals` or, if columns are non-unique, `df.isetitem(i, newvals)`\n",
      "  df_diagnoses_with_adm.loc[:, 'dischtime'] = pd.to_datetime(\n"
     ]
    },
    {
     "name": "stdout",
     "output_type": "stream",
     "text": [
      "Number of unique ICD codes v9_3digit:  8609\n"
     ]
    },
    {
     "name": "stderr",
     "output_type": "stream",
     "text": [
      "/home/rm868/granular-race-disparities_MLHC23/preprocessing/medcode_utils.py:94: FutureWarning: In a future version, `df.iloc[:, i] = newvals` will attempt to set the values inplace instead of always setting a new array. To retain the old behavior, use either `df[df.columns[i]] = newvals` or, if columns are non-unique, `df.isetitem(i, newvals)`\n",
      "  df_diagnoses_with_adm.loc[:, 'dischtime'] = pd.to_datetime(\n"
     ]
    },
    {
     "name": "stdout",
     "output_type": "stream",
     "text": [
      "Number of unique ICD codes v10:  14956\n"
     ]
    }
   ],
   "source": [
    "# This function takes about 40 min\n",
    "df_main = comorbidity(df_main, df_diagnoses, df_admissions, timerange = 365*5)\n",
    "extract_icd_list(df_edstays, df_diagnoses, df_admissions, data_path, timerange = 365*5, version = 'v9')\n",
    "extract_icd_list(df_edstays, df_diagnoses, df_admissions, data_path, timerange = 365*5, version = 'v9_3digit')\n",
    "extract_icd_list(df_edstays, df_diagnoses, df_admissions, data_path, timerange = 365*5, version = 'v10')\n"
   ]
  },
  {
   "cell_type": "markdown",
   "metadata": {},
   "source": [
    "## ED vital signs"
   ]
  },
  {
   "cell_type": "code",
   "execution_count": 25,
   "metadata": {},
   "outputs": [],
   "source": [
    "df_main = merge_vitalsign_info_on_edstay(df_main, df_vitalsign, options=['last'])"
   ]
  },
  {
   "cell_type": "markdown",
   "metadata": {},
   "source": [
    "## Medication"
   ]
  },
  {
   "cell_type": "code",
   "execution_count": 26,
   "metadata": {},
   "outputs": [],
   "source": [
    "# Medication counts\n",
    "# See more info about medrecon/pyxis here: https://physionet.org/content/mimic-iv-ed/2.2/\n",
    "df_main = merge_med_count_on_edstay(df_main, df_pyxis)\n",
    "df_main = merge_medrecon_count_on_edstay(df_main, df_medrecon)"
   ]
  },
  {
   "cell_type": "markdown",
   "metadata": {},
   "source": [
    "## Remove outliers\n",
    "They will be imputed later, at training time"
   ]
  },
  {
   "cell_type": "code",
   "execution_count": 30,
   "metadata": {},
   "outputs": [
    {
     "data": {
      "text/html": [
       "<div>\n",
       "<style scoped>\n",
       "    .dataframe tbody tr th:only-of-type {\n",
       "        vertical-align: middle;\n",
       "    }\n",
       "\n",
       "    .dataframe tbody tr th {\n",
       "        vertical-align: top;\n",
       "    }\n",
       "\n",
       "    .dataframe thead th {\n",
       "        text-align: right;\n",
       "    }\n",
       "</style>\n",
       "<table border=\"1\" class=\"dataframe\">\n",
       "  <thead>\n",
       "    <tr style=\"text-align: right;\">\n",
       "      <th></th>\n",
       "      <th>variable</th>\n",
       "      <th>&lt; outlier_low</th>\n",
       "      <th>[outlier_low, valid_low)</th>\n",
       "      <th>[valid_low, valid_high]</th>\n",
       "      <th>(valid_high, outlier_high]</th>\n",
       "      <th>&gt; outlier_high</th>\n",
       "    </tr>\n",
       "  </thead>\n",
       "  <tbody>\n",
       "    <tr>\n",
       "      <th>0</th>\n",
       "      <td>triage_temperature</td>\n",
       "      <td>479</td>\n",
       "      <td>29</td>\n",
       "      <td>401155</td>\n",
       "      <td>0</td>\n",
       "      <td>9</td>\n",
       "    </tr>\n",
       "    <tr>\n",
       "      <th>1</th>\n",
       "      <td>triage_heartrate</td>\n",
       "      <td>0</td>\n",
       "      <td>0</td>\n",
       "      <td>407990</td>\n",
       "      <td>0</td>\n",
       "      <td>7</td>\n",
       "    </tr>\n",
       "    <tr>\n",
       "      <th>2</th>\n",
       "      <td>triage_resprate</td>\n",
       "      <td>0</td>\n",
       "      <td>0</td>\n",
       "      <td>404731</td>\n",
       "      <td>0</td>\n",
       "      <td>3</td>\n",
       "    </tr>\n",
       "    <tr>\n",
       "      <th>3</th>\n",
       "      <td>triage_o2sat</td>\n",
       "      <td>0</td>\n",
       "      <td>0</td>\n",
       "      <td>404444</td>\n",
       "      <td>6</td>\n",
       "      <td>41</td>\n",
       "    </tr>\n",
       "    <tr>\n",
       "      <th>4</th>\n",
       "      <td>triage_sbp</td>\n",
       "      <td>0</td>\n",
       "      <td>0</td>\n",
       "      <td>406780</td>\n",
       "      <td>0</td>\n",
       "      <td>16</td>\n",
       "    </tr>\n",
       "    <tr>\n",
       "      <th>5</th>\n",
       "      <td>triage_dbp</td>\n",
       "      <td>0</td>\n",
       "      <td>0</td>\n",
       "      <td>405601</td>\n",
       "      <td>0</td>\n",
       "      <td>395</td>\n",
       "    </tr>\n",
       "    <tr>\n",
       "      <th>6</th>\n",
       "      <td>triage_pain</td>\n",
       "      <td>0</td>\n",
       "      <td>0</td>\n",
       "      <td>386851</td>\n",
       "      <td>0</td>\n",
       "      <td>11205</td>\n",
       "    </tr>\n",
       "    <tr>\n",
       "      <th>7</th>\n",
       "      <td>triage_acuity</td>\n",
       "      <td>0</td>\n",
       "      <td>0</td>\n",
       "      <td>418100</td>\n",
       "      <td>0</td>\n",
       "      <td>0</td>\n",
       "    </tr>\n",
       "    <tr>\n",
       "      <th>8</th>\n",
       "      <td>ed_temperature_last</td>\n",
       "      <td>751</td>\n",
       "      <td>43</td>\n",
       "      <td>398206</td>\n",
       "      <td>1</td>\n",
       "      <td>48</td>\n",
       "    </tr>\n",
       "    <tr>\n",
       "      <th>9</th>\n",
       "      <td>ed_heartrate_last</td>\n",
       "      <td>0</td>\n",
       "      <td>0</td>\n",
       "      <td>406649</td>\n",
       "      <td>0</td>\n",
       "      <td>0</td>\n",
       "    </tr>\n",
       "    <tr>\n",
       "      <th>10</th>\n",
       "      <td>ed_resprate_last</td>\n",
       "      <td>0</td>\n",
       "      <td>0</td>\n",
       "      <td>406164</td>\n",
       "      <td>0</td>\n",
       "      <td>0</td>\n",
       "    </tr>\n",
       "    <tr>\n",
       "      <th>11</th>\n",
       "      <td>ed_o2sat_last</td>\n",
       "      <td>0</td>\n",
       "      <td>0</td>\n",
       "      <td>395985</td>\n",
       "      <td>0</td>\n",
       "      <td>10</td>\n",
       "    </tr>\n",
       "    <tr>\n",
       "      <th>12</th>\n",
       "      <td>ed_sbp_last</td>\n",
       "      <td>0</td>\n",
       "      <td>0</td>\n",
       "      <td>406409</td>\n",
       "      <td>0</td>\n",
       "      <td>1</td>\n",
       "    </tr>\n",
       "    <tr>\n",
       "      <th>13</th>\n",
       "      <td>ed_dbp_last</td>\n",
       "      <td>0</td>\n",
       "      <td>0</td>\n",
       "      <td>406151</td>\n",
       "      <td>0</td>\n",
       "      <td>259</td>\n",
       "    </tr>\n",
       "    <tr>\n",
       "      <th>14</th>\n",
       "      <td>ed_pain_last</td>\n",
       "      <td>0</td>\n",
       "      <td>0</td>\n",
       "      <td>375437</td>\n",
       "      <td>0</td>\n",
       "      <td>15</td>\n",
       "    </tr>\n",
       "  </tbody>\n",
       "</table>\n",
       "</div>"
      ],
      "text/plain": [
       "               variable < outlier_low [outlier_low, valid_low)  \\\n",
       "0    triage_temperature           479                       29   \n",
       "1      triage_heartrate             0                        0   \n",
       "2       triage_resprate             0                        0   \n",
       "3          triage_o2sat             0                        0   \n",
       "4            triage_sbp             0                        0   \n",
       "5            triage_dbp             0                        0   \n",
       "6           triage_pain             0                        0   \n",
       "7         triage_acuity             0                        0   \n",
       "8   ed_temperature_last           751                       43   \n",
       "9     ed_heartrate_last             0                        0   \n",
       "10     ed_resprate_last             0                        0   \n",
       "11        ed_o2sat_last             0                        0   \n",
       "12          ed_sbp_last             0                        0   \n",
       "13          ed_dbp_last             0                        0   \n",
       "14         ed_pain_last             0                        0   \n",
       "\n",
       "   [valid_low, valid_high] (valid_high, outlier_high] > outlier_high  \n",
       "0                   401155                          0              9  \n",
       "1                   407990                          0              7  \n",
       "2                   404731                          0              3  \n",
       "3                   404444                          6             41  \n",
       "4                   406780                          0             16  \n",
       "5                   405601                          0            395  \n",
       "6                   386851                          0          11205  \n",
       "7                   418100                          0              0  \n",
       "8                   398206                          1             48  \n",
       "9                   406649                          0              0  \n",
       "10                  406164                          0              0  \n",
       "11                  395985                          0             10  \n",
       "12                  406409                          0              1  \n",
       "13                  406151                          0            259  \n",
       "14                  375437                          0             15  "
      ]
     },
     "execution_count": 30,
     "metadata": {},
     "output_type": "execute_result"
    }
   ],
   "source": [
    "from helpers import vitals_valid_range\n",
    "\n",
    "df_main = convert_temp_to_celsius(df_main)\n",
    "display_outliers_count(df_main, vitals_valid_range)"
   ]
  },
  {
   "cell_type": "code",
   "execution_count": 31,
   "metadata": {},
   "outputs": [],
   "source": [
    "df_main = remove_outliers(df_main, vitals_valid_range)"
   ]
  },
  {
   "cell_type": "markdown",
   "metadata": {},
   "source": [
    "## Add clinical risk scores"
   ]
  },
  {
   "cell_type": "code",
   "execution_count": 33,
   "metadata": {},
   "outputs": [
    {
     "name": "stdout",
     "output_type": "stream",
     "text": [
      "Variable 'add_triage_MAP' successfully added\n",
      "Variable 'add_score_CCI' successfully added\n",
      "Variable 'Score_CART' successfully added\n",
      "Variable 'Score_NEWS' successfully added\n"
     ]
    }
   ],
   "source": [
    "add_triage_MAP(df_main)\n",
    "add_score_CCI(df_main)\n",
    "add_score_CART(df_main)\n",
    "add_score_NEWS(df_main)"
   ]
  },
  {
   "cell_type": "markdown",
   "metadata": {},
   "source": [
    "## Filter\n",
    "\n",
    "Ensure that age >= 18 and triage_acuity is a present variable."
   ]
  },
  {
   "cell_type": "code",
   "execution_count": 35,
   "metadata": {},
   "outputs": [
    {
     "name": "stdout",
     "output_type": "stream",
     "text": [
      "Before filtering for \"age\" >= 18 : master dataset size =  425087\n",
      "After filtering for \"age\" >= 18 : master dataset size =  425087\n",
      "Before filtering for non-null \"triage_acuity\" >= 18 : master dataset size =  425087\n",
      "After filtering for non-null \"triage_acuity\" >= 18 : master dataset size =  418100\n"
     ]
    }
   ],
   "source": [
    "print('Before filtering for \"age\" >= 18 : master dataset size = ', len(df_main))\n",
    "df_main = df_main[df_main['age'] >= 18]\n",
    "print('After filtering for \"age\" >= 18 : master dataset size = ', len(df_main))\n",
    "\n",
    "print('Before filtering for non-null \"triage_acuity\": master dataset size = ', len(df_main))\n",
    "df_main = df_main[df_main['triage_acuity'].notnull()]\n",
    "print('After filtering for non-null \"triage_acuity\": master dataset size = ', len(df_main))"
   ]
  },
  {
   "cell_type": "markdown",
   "metadata": {},
   "source": [
    "## Create granular and coarse race columns"
   ]
  },
  {
   "cell_type": "code",
   "execution_count": 40,
   "metadata": {},
   "outputs": [],
   "source": [
    "granular_to_coarse = {\n",
    "    'HISPANIC/LATINO - PUERTO RICAN': 'HISPANIC OR LATINO', \n",
    "    'HISPANIC/LATINO - DOMINICAN': 'HISPANIC OR LATINO', \n",
    "    'HISPANIC/LATINO - GUATEMALAN': 'HISPANIC OR LATINO', \n",
    "    'HISPANIC/LATINO - SALVADORAN': 'HISPANIC OR LATINO', \n",
    "    'HISPANIC/LATINO - MEXICAN': 'HISPANIC OR LATINO', \n",
    "    'HISPANIC/LATINO - COLUMBIAN': 'HISPANIC OR LATINO', \n",
    "    'HISPANIC/LATINO - HONDURAN': 'HISPANIC OR LATINO', \n",
    "    'HISPANIC/LATINO - CUBAN': 'HISPANIC OR LATINO',\n",
    "    'HISPANIC/LATINO - CENTRAL AMERICAN': 'HISPANIC OR LATINO',\n",
    "    'SOUTH AMERICAN': 'HISPANIC OR LATINO',\n",
    "    'ASIAN - CHINESE': 'ASIAN',\n",
    "    'ASIAN - SOUTH EAST ASIAN': 'ASIAN',\n",
    "    'ASIAN - ASIAN INDIAN': 'ASIAN',\n",
    "    'ASIAN - KOREAN': 'ASIAN',\n",
    "    'WHITE - OTHER EUROPEAN': 'WHITE',\n",
    "    'WHITE - RUSSIAN': 'WHITE',\n",
    "    'WHITE - EASTERN EUROPEAN': 'WHITE',\n",
    "    'WHITE - BRAZILIAN': 'WHITE',\n",
    "    'PORTUGUESE': 'WHITE',\n",
    "    'BLACK/CAPE VERDEAN': 'BLACK/AFRICAN AMERICAN',\n",
    "    'BLACK/CARIBBEAN ISLAND': 'BLACK/AFRICAN AMERICAN',\n",
    "    'BLACK/AFRICAN': 'BLACK/AFRICAN AMERICAN',\n",
    "    'AMERICAN INDIAN/ALASKA NATIVE': 'OTHER',\n",
    "    'NATIVE HAWAIIAN OR OTHER PACIFIC ISLANDER': 'OTHER',\n",
    "    'MULTIPLE RACE/ETHNICITY': 'OTHER',\n",
    "    'UNKNOWN': 'OTHER',\n",
    "    'PATIENT DECLINED TO ANSWER': 'OTHER',\n",
    "    'UNABLE TO OBTAIN': 'OTHER',\n",
    "}\n",
    "\n",
    "'''\n",
    "Input: patient reported race recorded in MIMIC-IV\n",
    "Output: \n",
    "If the reported race is granular, then return its coarse category;\n",
    "else, return the reported (coarse) race.\n",
    "\n",
    "The goal is to construct a coarse race column for all patients.\n",
    "'''\n",
    "def coarsen_race(race):\n",
    "    if race in granular_to_coarse: return granular_to_coarse[race]\n",
    "    else: return race"
   ]
  },
  {
   "cell_type": "code",
   "execution_count": 50,
   "metadata": {},
   "outputs": [
    {
     "name": "stdout",
     "output_type": "stream",
     "text": [
      "WHITE                     244093\n",
      "BLACK/AFRICAN AMERICAN     92168\n",
      "HISPANIC OR LATINO         35205\n",
      "OTHER                      28313\n",
      "ASIAN                      18321\n",
      "Name: coarse_race, dtype: int64\n",
      "\n",
      "Number of visits with a granular race reported\n",
      "86371\n",
      "Number of visits with only a coarse race reported\n",
      "331729\n"
     ]
    }
   ],
   "source": [
    "df_main.insert(7, 'coarse_race', df_main['race'].apply(coarsen_race))\n",
    "df_main.rename(columns={'race': 'granular_race'}, inplace=True)\n",
    "\n",
    "print(df_main['coarse_race'].value_counts())\n",
    "print()\n",
    "\n",
    "print(\"Number of visits with a granular race reported\")\n",
    "print((df_main.granular_race != df_main.coarse_race).sum())\n",
    "\n",
    "print(\"Number of visits with only a coarse race reported\")\n",
    "print((df_main.granular_race == df_main.coarse_race).sum())"
   ]
  },
  {
   "cell_type": "markdown",
   "metadata": {},
   "source": [
    "## Review the main dataset and output"
   ]
  },
  {
   "cell_type": "code",
   "execution_count": 51,
   "metadata": {},
   "outputs": [],
   "source": [
    "df_main.to_csv(os.path.join(data_path, 'main_ed_dataset.csv'), index=False)"
   ]
  },
  {
   "cell_type": "code",
   "execution_count": 52,
   "metadata": {},
   "outputs": [],
   "source": [
    "df_main"
   ]
  }
 ],
 "metadata": {
  "kernelspec": {
   "display_name": "Python 3 (ipykernel)",
   "language": "python",
   "name": "python3"
  },
  "vscode": {
   "interpreter": {
    "hash": "aee8b7b246df8f9039afb4144a1f6fd8d2ca17a180786b69acc140d282b71a49"
   }
  }
 },
 "nbformat": 4,
 "nbformat_minor": 2
}
